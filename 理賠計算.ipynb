{
  "nbformat": 4,
  "nbformat_minor": 0,
  "metadata": {
    "colab": {
      "provenance": []
    },
    "kernelspec": {
      "name": "python3",
      "display_name": "Python 3"
    },
    "language_info": {
      "name": "python"
    }
  },
  "cells": [
    {
      "cell_type": "code",
      "execution_count": 4,
      "metadata": {
        "colab": {
          "base_uri": "https://localhost:8080/"
        },
        "id": "3EwJX-iBumVy",
        "outputId": "1118f1d7-ff59-4dcc-d4cd-4aad074ba915"
      },
      "outputs": [
        {
          "output_type": "stream",
          "name": "stdout",
          "text": [
            "How are you today?\n",
            "請輸入商品代號:IWJ\n",
            "請輸入保費:6685\n",
            "請輸入年期:10 1\n",
            "請輸入保額:65\n",
            "請輸入增額係數:5.9665\n",
            "請輸入前一年末保價:7317\n",
            "請輸入當年度保價:7427\n",
            "請輸入自周期日至事故日之天數:118/365\n",
            "521786\n"
          ]
        }
      ],
      "source": [
        "from decimal import Decimal, ROUND_HALF_UP\n",
        "import re\n",
        "print(\"How are you today?\" )\n",
        "type = input(\"請輸入商品代號:\")\n",
        "Premium = int(input(\"請輸入保費:\"))\n",
        "lyear = list(map(int, input(\"請輸入年期:\").split()))\n",
        "Sum_insured = Decimal(input(\"請輸入保額:\"))\n",
        "Increase_factor = Decimal(input(\"請輸入增額係數:\"))\n",
        "prior_year = int(input(\"請輸入前一年末保價:\"))\n",
        "current_year = int(input(\"請輸入當年度保價:\"))\n",
        "day = eval(input(\"請輸入自周期日至事故日之天數:\"))\n",
        "dictType = {\"IWJ\":1.03, \"IWI\":1.01}\n",
        "\n",
        "def first_count(a, b, c, d):\n",
        "    t = Decimal(a*d*min(b)).quantize(Decimal('0.1'), rounding=ROUND_HALF_UP)\n",
        "    return Decimal(t*c).quantize(Decimal('1'), rounding=ROUND_HALF_UP)\n",
        "\n",
        "def second_count(a, b, c, d):\n",
        "    k = Decimal(a+(b-a)*(c)).quantize(Decimal(\"0.001\"), rounding=ROUND_HALF_UP)\n",
        "    return Decimal(k*d*1).quantize(Decimal(\"1\"), rounding=ROUND_HALF_UP)\n",
        "\n",
        "def IWJ(Premium, lyear, Sum_insured, Increase_factor, prior_year, current_year, day):\n",
        "    A = first_count(Premium, lyear, Sum_insured, dictType[type])\n",
        "    B = first_count(Premium, lyear, Increase_factor, dictType[type])\n",
        "    C = second_count(prior_year, current_year, day, Sum_insured)\n",
        "    D = second_count(prior_year, current_year, day, Increase_factor)\n",
        "    return max(A, C)+max(B, D)\n",
        "\n",
        "while True:\n",
        "    try:\n",
        "        match type:\n",
        "            case \"IWJ\":\n",
        "                    print(IWJ(Premium, lyear, Sum_insured, Increase_factor, prior_year, current_year, day))\n",
        "                    break\n",
        "    except:\n",
        "         print(\"查無此類商品\")\n",
        "         break"
      ]
    }
  ]
}